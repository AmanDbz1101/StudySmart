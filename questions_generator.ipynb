{
 "cells": [
  {
   "cell_type": "code",
   "execution_count": 12,
   "metadata": {},
   "outputs": [
    {
     "name": "stdout",
     "output_type": "stream",
     "text": [
      "Processed page 1\n",
      "Processed page 2\n",
      "Processed page 3\n",
      "Processed page 4\n",
      "Processed page 5\n",
      "Processed page 6\n",
      "Processed page 7\n",
      "Processed page 8\n",
      "Processed page 9\n",
      "Extracted Questions:\n",
      "2. Explain BCD code with suitable examples. [5]\n",
      "3. Simplify the function using K-map F=)(0, 1, 4, 8, 10, 11, 12) and D=2(2, 3, 6, 9, 15).\n",
      "4. Explain the operation of octal to binary encoder with necessary diagrams. Convert\n",
      "5. Describe the importance of parity bits in communication system. Explain 3 bits odd parity\n",
      "6. Realize the circuit diagram for BCD decoder. Explain 1’s and 2’s complements with\n",
      "7. Explain the operation of edge triggered S-R Flip-Flop with timing diagram and truth\n",
      "8. Design half subtractor circuit using HDL. [4]\n",
      "10. Design a synchronous sequential machine from the state diagram given below. Use S-R\n",
      "11. Explain the operation of 4 bit serial in parallel out (SIPO) register with timing diagram. [4]\n",
      "12. What is the role of hazards in asynchronous circuit design? Explain two bit magnitude\n",
      "13. Draw the schematic diagram of TTL NAND gate and explain about the transistor switch. [2+3]\n",
      "14. With the help of block diagram explain the operation of Time measuring circuit. [4]\n",
      "1. a) Define TTL IC Signal levels for Input and Output logic with example. [3]\n",
      "b) Convert 37.432 decimal number to binary. [3]\n",
      "2. a) State and prove De-Morgan’s theorems with necessary diagrams. Prove that negative\n",
      "b) What is Gray code? Explain with example. [2]\n",
      "3. a) Minize the expression and implement the reduced expression by using NAND gates.\n",
      "b) What do you mean by Max term? Explain with example. [3]\n",
      "4. Design the 32:1 Multiplexer using 4:1 multiplexers tree concept and implement the\n",
      "5. a) Explain the operation of 3 bit magnitude comparator with truth table and draw the\n",
      "b) Draw the circuit to add following bits 1011 and 1100. [3]\n",
      "6. a) Write down the drawback of SR Flip-Flop. Explain the operation of edge triggered JK\n",
      "b) Explain the operation of 4 bit serial in serial out (SISO) register with timing diagram. [5]\n",
      "7. Explain the operation of 3 bit Asynchronous up/down counter with timing diagram. [6]\n",
      "8. Design a synchronous sequential machine such that it gives output Z = 1 if input contains\n",
      "9. What do you mean by static and dynamic hazards? Give example of static hazards and\n",
      "10. With the help of block diagram explain the operation of frequency counter. [4]\n",
      "11. Draw the schematic diagram of TTL NOR gate and explain about totem pole. [6]\n",
      "1. a) Explain digital wave form based on TTL compatible logic. (Both for input and output) —‘[3]\n",
      "b) What is the importance of De-morgan's laws? Show how a two-input NOR gate can\n",
      "2. Convert decimal 39 into binary and hexadecimal. Use 2'S complement method to perform\n",
      "3. Simplify the function using K-map F= }°(0,1,4,8,10,1112) and D= > (2,3,6,9,15). Also\n",
      "4. a) What is an encoder? Draw the logic circuit of an encoder that converts Octal number\n",
      "b) What is a multiplexer tree? Design the 16 to 1 multiplexer using 4 to 1 multiplexer. [1+4]\n",
      "5. What is the Setup time and hold time of a flip-flop? With the help of excitation table and\n",
      "6. Describe the operation of 4 bit serial in Serial Out shift register, with timing diagram.\n",
      "7. List the advantages and disadvantages of a synchronous counter over asynchronous\n",
      "8. Design a sequential machine that produces output Y = 1 when it detects the serial input\n",
      "9. Define fan-in and fan-out with reference to TTL. With a circuit diagram explain the\n",
      "10. Draw the block diagram with decoders to show hour, minute and second. [6]\n",
      "11. Write short notes on: (any two) [2x3]\n",
      "i) Static and dynamic hazzard\n",
      "1. a) Perform the following code conversions. [3+2]\n",
      "i) (1110)gray = (?)Bcd\n",
      "b) Construct two input XOR gate using minimum number of 2-input NAND gates only. {5]\n",
      "2. Implement a full adder circuit using 4:1 Multiplexers. [5]\n",
      "3. Draw the circuit diagram and explain the working principle of 4-bit parallel in serial out\n",
      "4. Simplify ¥51,2,3,8,10,13 + d(0,4,5,6,7,9,12) by using K-Map and write its standard SOP\n",
      "5. Design 1:32 dimultiplexer tree using 1:8 DEMUXS and 1:2 DEMUXS only. [6]\n",
      "6. Draw the schematic diagram of TTL Inverter. Explain the working principle of circuit. [3+4]\n",
      "7. Derive characteristic equation of a JK flip flop. How do you make it a toggle flip flop?\n",
      "8. Differentiate between combinational and sequential circuits. Explain BCD-to-Decimal\n",
      "9. Design a synchronous MOD-S counter along with block diagram and timing diagrams.\n",
      "10. Sketch block diagram of digital frequency counter and describe its operation. [8]\n",
      "11. A sequential machine has to detect serial input sequance of 101, the machine output will\n",
      "1. Perform the following as indicated in the brackets: {2x4]\n",
      "6. (101001001) pinary= (?)Gray\n",
      "2. a) Describe commutative and associative laws of Boolean algebra with examples and\n",
      "b) Implement Excusive OR gate by using NAND gates only. [4]\n",
      "3. Simplify 571,2,3,8,9,10,11,13,14+4(0,4,7,12) by using K-Map and write its standard\n",
      "5. Realize a full-subtractor using suitable demultiplexer and standard getes. [6]\n",
      "6. Design a simplest logic circuit for 'b' segment of the BCD to 7 segment decoder. [7]\n",
      "7. Design and draw the circuit diagram of a 3 bit gray code synchronous counter. [7]\n",
      "8. Draw ripple decade counter and sketch its timing diagram. [5+2]\n",
      "9. Draw 2-input TTL NAND gate and explain its working principle. [5]\n",
      "10. How does second section of a digital clock work? Explain its working principle using\n",
      "11. Design a sequential machine that has a single input 'x' and single output 'z'. The machine\n",
      "1. Define digital signal and explain Gray code with example. [1+5]\n",
      "2. Prove that positive X-OR is equivalent to negative X-NOR. [5]\n",
      "3. a) Convert the following term into standard min term. A+B’C. [3]\n",
      "b) Use K-map method to implement the following function and also draw the reduced\n",
      "4. a) Realize the logic circuit of the following using 8:1 MUX. [4]\n",
      "b) When FFy is ANDed with COy what will be the resulting number? Subtract (26) 10\n",
      "5. a) Differentiate between level and Edge triggering? | [3]\n",
      "b) Explain the operation of two bit magnitude comparator with truth table and circuit\n",
      "6. a) Describe different typesof registers with diagram. [8]\n",
      "b) Illustrate how 1011 data can be stored and retrieve in parallel in serial out shift\n",
      "7. Differentiate synchronous and asynchronous sequential circuits. Explain the operation of\n",
      "8. a) Define state diagram and state table with example. [2]\n",
      "b) Design a sequential machine that has one serial input and one output z. The machine is\n",
      "9. Draw the schematic diagram of TTL two input NOR Gate. [6]\n",
      "10. Explain briefly the block diagram of an instrument to measure frequency. [5]\n",
      "1. Define digital IC signal levels. What is Gray Code? Explain with example. {3+3]\n",
      "2. Construct the given Boolean function: F = (A+B) (C+D) E using NOR gates only. [4]\n",
      "3. Simplify F (A,B,C,D) = x (0,2,5,8,10) + d(7,15). Write its standard SOP and implement\n",
      "4. a) What is priority Encoder? Design octal to binary priority encoder. [2+4]\n",
      "b) Design a2 bit magnitude comparator. [4]\n",
      "5. Design a combinational logic that performs multiplication between two 4 bit numbers\n",
      "6. Draw the circuit diagram and explain the operation of positive edge triggered JK flip-flop.\n",
      "7. Explain the Serial in Serial out (SISO) shift register with timing diagram. [4]\n",
      "8. Design the synchronous decade counter and also show the timing diagram. [8]\n",
      "9. Design a sequential machine that detects three consecutive zeros from an input data\n",
      "10. Draw the schematic circuit for CMOS NAND gates. What do you mean by totem-pole\n",
      "11. Describe the operation of a frequency counter. . [4]\n",
      "2. Explain Excess 3 code with suitable examples. | an [6]\n",
      "3. Simplify the function using K-map F= >.(0,1,4,8,10,11,12) and D = ¥(2, 3,6,9 19). Also\n",
      "4. Design a 32 to 1 multiplexer using 16 to 1 and 2 to I multiplexers. . {5]\n",
      "5. Design a 3-bit even parity generator and 4- bit even parity checker circuit. [5]\n",
      "6. Draw the block diagram of n-bit full adder and explain its operation. [8]\n",
      "7. Write down the drawbacks of SR flip flop. Explain the operation of data flip flop with\n",
      "8. With clear circuit and timing diagram, explain the operation of Serial in - Serial out shift\n",
      "9. Define ripple counter. Explain the operation of mode-10 ripple c counter with timing\n",
      "10. Design a sequential machine that has one serial input and one output z. The machine is .\n",
      "11. Describe the voltage profile of TTL. Explain the operation of TTL to CMOS interface. | [2+6] -\n",
      "12. What is frequency counter? Explain with block diagram. 7 (4)\n",
      "1. Draw the general input output voltage profile for TTL gates and also mention the noise\n",
      "6. Draw the schematic diagram of TTL NOR gate. Discuss the characteristics of TTL 74XX\n",
      "7. Draw the circuit diagram of edge triggred JK flip fiop and explain it. [5]\n",
      "8. What is a shift register? With clear timing diagram, describe the operation of a 4-bit\n",
      "9. What is a counter? Design a MOD - 6 synchronous counter. ‘Draw its timing diagram.\n",
      "10. Design a synchronous state machine with the following specification: [12]\n",
      "a) No. of input:1\n",
      "b) No. of output:1\n",
      "c) The output of the machine is to be set high when the data in the input is 110 in\n",
      "11. With an example, state and explain the problems associated in the design of asynchronous\n"
     ]
    }
   ],
   "source": [
    "from pdf2image import convert_from_path\n",
    "import pytesseract\n",
    "import re\n",
    "\n",
    "# Path to Tesseract OCR executable\n",
    "pytesseract.pytesseract.tesseract_cmd = r'C:\\\\Program Files\\\\Tesseract-OCR\\\\tesseract.exe'  # Update the path if necessary\n",
    "\n",
    "def extract_questions(pdf_path, psm=3, oem=3):\n",
    "    # Convert PDF pages to images\n",
    "    images = convert_from_path(pdf_path, dpi=300)\n",
    "    questions = []\n",
    "    \n",
    "    # Regular expression to identify questions (assumes they start with numbers or letters)\n",
    "    # question_pattern = r'^\\s*\\d+\\.|^\\s*[a-zA-Z]\\)'\n",
    "    question_pattern = r'^\\s*(\\d+\\.\\s*|[a-zA-Z]\\)|[a-zA-Z]\\))'\n",
    "\n",
    "\n",
    "    for page_number, image in enumerate(images, start=1):\n",
    "        # Extract text from the image\n",
    "        config = f'--psm {psm} --oem {oem}'\n",
    "        text = pytesseract.image_to_string(image, config=config)\n",
    "        \n",
    "        # Extract questions using regex\n",
    "        for line in text.split('\\n'):\n",
    "            if re.match(question_pattern, line):\n",
    "                questions.append(line.strip())\n",
    "                \n",
    "\n",
    "        print(f\"Processed page {page_number}\")\n",
    "    \n",
    "    return questions\n",
    "\n",
    "# Example usage\n",
    "pdf_path = \"Digital Logic.pdf\"  # Replace with your file path\n",
    "questions = extract_questions(pdf_path)\n",
    "\n",
    "# Output the extracted questions\n",
    "print(\"Extracted Questions:\")\n",
    "with open(\"questions.txt\", \"w\") as file:\n",
    "    for idx, question in enumerate(questions, start=1):\n",
    "        print(f\"{question}\")\n",
    "        file.write(f\"{question}\\n\")\n",
    "    \n",
    "    "
   ]
  },
  {
   "cell_type": "code",
   "execution_count": 14,
   "metadata": {},
   "outputs": [],
   "source": [
    "with open('questions.txt', 'r') as file:\n",
    "    questions = file.readlines()"
   ]
  },
  {
   "cell_type": "code",
   "execution_count": 43,
   "metadata": {},
   "outputs": [],
   "source": [
    "lists =[question.strip() for question in questions]"
   ]
  },
  {
   "cell_type": "code",
   "execution_count": 44,
   "metadata": {},
   "outputs": [
    {
     "data": {
      "text/plain": [
       "['2. Explain BCD code with suitable examples. [5]',\n",
       " '3. Simplify the function using K-map F=)(0, 1, 4, 8, 10, 11, 12) and D=2(2, 3, 6, 9, 15).']"
      ]
     },
     "execution_count": 44,
     "metadata": {},
     "output_type": "execute_result"
    }
   ],
   "source": [
    "lists[0:2]"
   ]
  },
  {
   "cell_type": "code",
   "execution_count": 45,
   "metadata": {},
   "outputs": [],
   "source": [
    "cleaned_lists = [re.sub(r'^\\d+\\.\\s*\\d+\\.\\s*', '', list) for list in lists]\n"
   ]
  },
  {
   "cell_type": "code",
   "execution_count": 46,
   "metadata": {},
   "outputs": [
    {
     "data": {
      "text/plain": [
       "['2. Explain BCD code with suitable examples. [5]',\n",
       " '3. Simplify the function using K-map F=)(0, 1, 4, 8, 10, 11, 12) and D=2(2, 3, 6, 9, 15).']"
      ]
     },
     "execution_count": 46,
     "metadata": {},
     "output_type": "execute_result"
    }
   ],
   "source": [
    "cleaned_lists[0:2]"
   ]
  },
  {
   "cell_type": "code",
   "execution_count": 19,
   "metadata": {},
   "outputs": [],
   "source": [
    "import pandas as pd \n"
   ]
  },
  {
   "cell_type": "code",
   "execution_count": 47,
   "metadata": {},
   "outputs": [],
   "source": [
    "pd.DataFrame(cleaned_lists, columns=['Questions']).to_csv('questions.csv', index=False)"
   ]
  },
  {
   "cell_type": "code",
   "execution_count": 48,
   "metadata": {},
   "outputs": [],
   "source": [
    "df = pd.read_csv('questions.csv')"
   ]
  },
  {
   "cell_type": "code",
   "execution_count": 49,
   "metadata": {},
   "outputs": [
    {
     "data": {
      "text/html": [
       "<div>\n",
       "<style scoped>\n",
       "    .dataframe tbody tr th:only-of-type {\n",
       "        vertical-align: middle;\n",
       "    }\n",
       "\n",
       "    .dataframe tbody tr th {\n",
       "        vertical-align: top;\n",
       "    }\n",
       "\n",
       "    .dataframe thead th {\n",
       "        text-align: right;\n",
       "    }\n",
       "</style>\n",
       "<table border=\"1\" class=\"dataframe\">\n",
       "  <thead>\n",
       "    <tr style=\"text-align: right;\">\n",
       "      <th></th>\n",
       "      <th>Questions</th>\n",
       "    </tr>\n",
       "  </thead>\n",
       "  <tbody>\n",
       "    <tr>\n",
       "      <th>0</th>\n",
       "      <td>2. Explain BCD code with suitable examples. [5]</td>\n",
       "    </tr>\n",
       "    <tr>\n",
       "      <th>1</th>\n",
       "      <td>3. Simplify the function using K-map F=)(0, 1,...</td>\n",
       "    </tr>\n",
       "    <tr>\n",
       "      <th>2</th>\n",
       "      <td>4. Explain the operation of octal to binary en...</td>\n",
       "    </tr>\n",
       "    <tr>\n",
       "      <th>3</th>\n",
       "      <td>5. Describe the importance of parity bits in c...</td>\n",
       "    </tr>\n",
       "    <tr>\n",
       "      <th>4</th>\n",
       "      <td>6. Realize the circuit diagram for BCD decoder...</td>\n",
       "    </tr>\n",
       "    <tr>\n",
       "      <th>...</th>\n",
       "      <td>...</td>\n",
       "    </tr>\n",
       "    <tr>\n",
       "      <th>110</th>\n",
       "      <td>10. Design a synchronous state machine with th...</td>\n",
       "    </tr>\n",
       "    <tr>\n",
       "      <th>111</th>\n",
       "      <td>a) No. of input:1</td>\n",
       "    </tr>\n",
       "    <tr>\n",
       "      <th>112</th>\n",
       "      <td>b) No. of output:1</td>\n",
       "    </tr>\n",
       "    <tr>\n",
       "      <th>113</th>\n",
       "      <td>c) The output of the machine is to be set high...</td>\n",
       "    </tr>\n",
       "    <tr>\n",
       "      <th>114</th>\n",
       "      <td>11. With an example, state and explain the pro...</td>\n",
       "    </tr>\n",
       "  </tbody>\n",
       "</table>\n",
       "<p>115 rows × 1 columns</p>\n",
       "</div>"
      ],
      "text/plain": [
       "                                             Questions\n",
       "0      2. Explain BCD code with suitable examples. [5]\n",
       "1    3. Simplify the function using K-map F=)(0, 1,...\n",
       "2    4. Explain the operation of octal to binary en...\n",
       "3    5. Describe the importance of parity bits in c...\n",
       "4    6. Realize the circuit diagram for BCD decoder...\n",
       "..                                                 ...\n",
       "110  10. Design a synchronous state machine with th...\n",
       "111                                  a) No. of input:1\n",
       "112                                 b) No. of output:1\n",
       "113  c) The output of the machine is to be set high...\n",
       "114  11. With an example, state and explain the pro...\n",
       "\n",
       "[115 rows x 1 columns]"
      ]
     },
     "execution_count": 49,
     "metadata": {},
     "output_type": "execute_result"
    }
   ],
   "source": [
    "df"
   ]
  },
  {
   "cell_type": "code",
   "execution_count": 35,
   "metadata": {},
   "outputs": [
    {
     "data": {
      "text/plain": [
       "(115, 1)"
      ]
     },
     "execution_count": 35,
     "metadata": {},
     "output_type": "execute_result"
    }
   ],
   "source": [
    "df.shape"
   ]
  },
  {
   "cell_type": "code",
   "execution_count": 52,
   "metadata": {},
   "outputs": [
    {
     "data": {
      "text/plain": [
       "' Explain BCD code with suitable examples'"
      ]
     },
     "execution_count": 52,
     "metadata": {},
     "output_type": "execute_result"
    }
   ],
   "source": [
    "df['Questions'][0].split('.')[1]"
   ]
  },
  {
   "cell_type": "code",
   "execution_count": 53,
   "metadata": {},
   "outputs": [
    {
     "name": "stderr",
     "output_type": "stream",
     "text": [
      "C:\\Users\\User\\AppData\\Local\\Temp\\ipykernel_11540\\2484187501.py:6: FutureWarning: ChainedAssignmentError: behaviour will change in pandas 3.0!\n",
      "You are setting values through chained assignment. Currently this works in certain cases, but when using Copy-on-Write (which will become the default behaviour in pandas 3.0) this will never work to update the original DataFrame or Series, because the intermediate object on which we are setting values will behave as a copy.\n",
      "A typical example is when you are setting values in a column of a DataFrame, like:\n",
      "\n",
      "df[\"col\"][row_indexer] = value\n",
      "\n",
      "Use `df.loc[row_indexer, \"col\"] = values` instead, to perform the assignment in a single step and ensure this keeps updating the original `df`.\n",
      "\n",
      "See the caveats in the documentation: https://pandas.pydata.org/pandas-docs/stable/user_guide/indexing.html#returning-a-view-versus-a-copy\n",
      "\n",
      "  df['Questions'][i] = df['Questions'][i].split('.')[1]\n",
      "C:\\Users\\User\\AppData\\Local\\Temp\\ipykernel_11540\\2484187501.py:4: FutureWarning: ChainedAssignmentError: behaviour will change in pandas 3.0!\n",
      "You are setting values through chained assignment. Currently this works in certain cases, but when using Copy-on-Write (which will become the default behaviour in pandas 3.0) this will never work to update the original DataFrame or Series, because the intermediate object on which we are setting values will behave as a copy.\n",
      "A typical example is when you are setting values in a column of a DataFrame, like:\n",
      "\n",
      "df[\"col\"][row_indexer] = value\n",
      "\n",
      "Use `df.loc[row_indexer, \"col\"] = values` instead, to perform the assignment in a single step and ensure this keeps updating the original `df`.\n",
      "\n",
      "See the caveats in the documentation: https://pandas.pydata.org/pandas-docs/stable/user_guide/indexing.html#returning-a-view-versus-a-copy\n",
      "\n",
      "  df['Questions'][i] = df['Questions'][i].split(')')[1]\n"
     ]
    }
   ],
   "source": [
    "#remove the elements before ')' in each row\n",
    "for i in range(df.shape[0]):\n",
    "    if ')' in df['Questions'][i][:6]:\n",
    "        df['Questions'][i] = df['Questions'][i].split(')')[1]\n",
    "    elif '.' in df['Questions'][i][:6]:\n",
    "        df['Questions'][i] = df['Questions'][i].split('.')[1]\n",
    "    else:\n",
    "        df['Questions'][i] = df['Questions'][i]\n",
    "\n"
   ]
  },
  {
   "cell_type": "code",
   "execution_count": 54,
   "metadata": {},
   "outputs": [
    {
     "data": {
      "text/html": [
       "<div>\n",
       "<style scoped>\n",
       "    .dataframe tbody tr th:only-of-type {\n",
       "        vertical-align: middle;\n",
       "    }\n",
       "\n",
       "    .dataframe tbody tr th {\n",
       "        vertical-align: top;\n",
       "    }\n",
       "\n",
       "    .dataframe thead th {\n",
       "        text-align: right;\n",
       "    }\n",
       "</style>\n",
       "<table border=\"1\" class=\"dataframe\">\n",
       "  <thead>\n",
       "    <tr style=\"text-align: right;\">\n",
       "      <th></th>\n",
       "      <th>Questions</th>\n",
       "    </tr>\n",
       "  </thead>\n",
       "  <tbody>\n",
       "    <tr>\n",
       "      <th>0</th>\n",
       "      <td>Explain BCD code with suitable examples</td>\n",
       "    </tr>\n",
       "    <tr>\n",
       "      <th>1</th>\n",
       "      <td>Simplify the function using K-map F=)(0, 1, 4...</td>\n",
       "    </tr>\n",
       "    <tr>\n",
       "      <th>2</th>\n",
       "      <td>Explain the operation of octal to binary enco...</td>\n",
       "    </tr>\n",
       "    <tr>\n",
       "      <th>3</th>\n",
       "      <td>Describe the importance of parity bits in com...</td>\n",
       "    </tr>\n",
       "    <tr>\n",
       "      <th>4</th>\n",
       "      <td>Realize the circuit diagram for BCD decoder</td>\n",
       "    </tr>\n",
       "    <tr>\n",
       "      <th>...</th>\n",
       "      <td>...</td>\n",
       "    </tr>\n",
       "    <tr>\n",
       "      <th>110</th>\n",
       "      <td>Design a synchronous state machine with the f...</td>\n",
       "    </tr>\n",
       "    <tr>\n",
       "      <th>111</th>\n",
       "      <td>No. of input:1</td>\n",
       "    </tr>\n",
       "    <tr>\n",
       "      <th>112</th>\n",
       "      <td>No. of output:1</td>\n",
       "    </tr>\n",
       "    <tr>\n",
       "      <th>113</th>\n",
       "      <td>The output of the machine is to be set high w...</td>\n",
       "    </tr>\n",
       "    <tr>\n",
       "      <th>114</th>\n",
       "      <td>With an example, state and explain the proble...</td>\n",
       "    </tr>\n",
       "  </tbody>\n",
       "</table>\n",
       "<p>115 rows × 1 columns</p>\n",
       "</div>"
      ],
      "text/plain": [
       "                                             Questions\n",
       "0              Explain BCD code with suitable examples\n",
       "1     Simplify the function using K-map F=)(0, 1, 4...\n",
       "2     Explain the operation of octal to binary enco...\n",
       "3     Describe the importance of parity bits in com...\n",
       "4          Realize the circuit diagram for BCD decoder\n",
       "..                                                 ...\n",
       "110   Design a synchronous state machine with the f...\n",
       "111                                     No. of input:1\n",
       "112                                    No. of output:1\n",
       "113   The output of the machine is to be set high w...\n",
       "114   With an example, state and explain the proble...\n",
       "\n",
       "[115 rows x 1 columns]"
      ]
     },
     "execution_count": 54,
     "metadata": {},
     "output_type": "execute_result"
    }
   ],
   "source": [
    "df"
   ]
  },
  {
   "cell_type": "code",
   "execution_count": 55,
   "metadata": {},
   "outputs": [],
   "source": [
    "df.to_csv('cleaned_questions.csv', index=False)"
   ]
  },
  {
   "cell_type": "code",
   "execution_count": 1,
   "metadata": {},
   "outputs": [],
   "source": [
    "!pip freeze > requirements.txt"
   ]
  }
 ],
 "metadata": {
  "kernelspec": {
   "display_name": "StudySmart",
   "language": "python",
   "name": "python3"
  },
  "language_info": {
   "codemirror_mode": {
    "name": "ipython",
    "version": 3
   },
   "file_extension": ".py",
   "mimetype": "text/x-python",
   "name": "python",
   "nbconvert_exporter": "python",
   "pygments_lexer": "ipython3",
   "version": "3.11.11"
  }
 },
 "nbformat": 4,
 "nbformat_minor": 4
}
